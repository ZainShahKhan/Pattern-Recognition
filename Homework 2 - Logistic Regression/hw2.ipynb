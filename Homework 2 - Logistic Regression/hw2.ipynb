{
 "cells": [
  {
   "cell_type": "code",
   "execution_count": 4,
   "id": "3977e097-655e-43bd-bbda-e9e60e0872e7",
   "metadata": {
    "tags": []
   },
   "outputs": [
    {
     "name": "stdout",
     "output_type": "stream",
     "text": [
      "Accuracy: 0.7835497835497836\n"
     ]
    }
   ],
   "source": [
    "# Import necessary libraries\n",
    "import pandas as pd\n",
    "from sklearn.model_selection import train_test_split\n",
    "from sklearn.linear_model import LogisticRegression\n",
    "from sklearn import metrics\n",
    "\n",
    "# Assuming that 'dataframe' is your diabetes dataset\n",
    "dataframe = pd.read_csv('Documents/ECUST Documents/Y4/S1/Pattern Recognition/diabetes.csv')\n",
    "\n",
    "# Split dataset into inputs and outputs\n",
    "values = dataframe.values\n",
    "X = values[:,0:8]\n",
    "y = values[:,8]\n",
    "\n",
    "# Split dataset into training set and test set\n",
    "X_train, X_test, y_train, y_test = train_test_split(X, y, test_size=0.3, random_state=1) # 70% training and 30% test\n",
    "\n",
    "# Create Logistic Regression Model\n",
    "logistic_regression= LogisticRegression()\n",
    "\n",
    "# Train the model using the training sets\n",
    "logistic_regression.fit(X_train,y_train)\n",
    "\n",
    "# Prediction on test data\n",
    "y_pred=logistic_regression.predict(X_test)\n",
    "\n",
    "# Calculating the accuracy\n",
    "print(\"Accuracy:\",metrics.accuracy_score(y_test, y_pred))"
   ]
  },
  {
   "cell_type": "code",
   "execution_count": null,
   "id": "2a55f4a0-0d40-40f3-bd3d-a7f302955ecd",
   "metadata": {},
   "outputs": [],
   "source": []
  }
 ],
 "metadata": {
  "kernelspec": {
   "display_name": "Python 3 (ipykernel)",
   "language": "python",
   "name": "python3"
  },
  "language_info": {
   "codemirror_mode": {
    "name": "ipython",
    "version": 3
   },
   "file_extension": ".py",
   "mimetype": "text/x-python",
   "name": "python",
   "nbconvert_exporter": "python",
   "pygments_lexer": "ipython3",
   "version": "3.11.5"
  }
 },
 "nbformat": 4,
 "nbformat_minor": 5
}
